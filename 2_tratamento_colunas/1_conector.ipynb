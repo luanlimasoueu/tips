{
 "cells": [
  {
   "cell_type": "code",
   "execution_count": null,
   "metadata": {},
   "outputs": [],
   "source": [
    "pip install snowflake-snowpark-python"
   ]
  },
  {
   "cell_type": "code",
   "execution_count": 2,
   "metadata": {},
   "outputs": [],
   "source": [
    "import streamlit as st\n",
    "import os\n",
    "from dotenv import load_dotenv\n",
    "import snowflake.connector\n",
    "import pandas as pd\n",
    "from snowflake.snowpark import Session\n",
    "\n",
    "load_dotenv()\n",
    "\n",
    "connection_parameters = {\n",
    "   \"account\": os.getenv('account_snow'),\n",
    "   \"user\": os.getenv('user_snow'),\n",
    "   \"password\":os.getenv('password_snow')\n",
    "}\n",
    "\n",
    "session = Session.builder.configs(connection_parameters).create()\n",
    "#print(new_session)"
   ]
  },
  {
   "cell_type": "code",
   "execution_count": 20,
   "metadata": {},
   "outputs": [],
   "source": [
    "from snowflake.snowpark.types import StringType, IntegerType, FloatType, DateType\n",
    "\n",
    "# Definindo um DataFrame com tipos explícitos\n",
    "df = session.create_dataframe([\n",
    "    (\"Alice\", '30', 5000.5, \"2025-01-01\"),\n",
    "    (\"Bob\", '25', 4000.0, \"2025-01-02\"),\n",
    "    (\"Charlie\", '35', 6000.75, \"2025-01-03\")\n",
    "], schema=[\"Name\", \"Age\", \"Salary\", \"JoinDate\"])\n"
   ]
  },
  {
   "cell_type": "code",
   "execution_count": 21,
   "metadata": {},
   "outputs": [
    {
     "name": "stdout",
     "output_type": "stream",
     "text": [
      "-------------------------------------------\n",
      "|\"NAME\"   |\"AGE\"  |\"SALARY\"  |\"JOINDATE\"  |\n",
      "-------------------------------------------\n",
      "|Alice    |30     |5000.5    |2025-01-01  |\n",
      "|Bob      |25     |4000.0    |2025-01-02  |\n",
      "|Charlie  |35     |6000.75   |2025-01-03  |\n",
      "-------------------------------------------\n",
      "\n"
     ]
    }
   ],
   "source": [
    "df.show()"
   ]
  },
  {
   "cell_type": "code",
   "execution_count": 22,
   "metadata": {},
   "outputs": [
    {
     "name": "stdout",
     "output_type": "stream",
     "text": [
      "Coluna: NAME - Tipo: StringType()\n",
      "Coluna: AGE - Tipo: StringType()\n",
      "Coluna: SALARY - Tipo: DoubleType()\n",
      "Coluna: JOINDATE - Tipo: StringType()\n"
     ]
    }
   ],
   "source": [
    "from snowflake.snowpark.functions import col\n",
    "\n",
    "# Exibir os tipos das colunas do DataFrame\n",
    "for field in df.schema.fields:\n",
    "    print(f\"Coluna: {field.name} - Tipo: {field.datatype}\")"
   ]
  },
  {
   "cell_type": "code",
   "execution_count": 23,
   "metadata": {},
   "outputs": [],
   "source": [
    "from snowflake.snowpark.types import StringType, IntegerType, FloatType, DateType\n",
    "from snowflake.snowpark.functions import col, cast"
   ]
  },
  {
   "cell_type": "code",
   "execution_count": 24,
   "metadata": {},
   "outputs": [],
   "source": [
    "df = df.withColumn(\"AGE\", df[\"AGE\"].cast(IntegerType()))"
   ]
  },
  {
   "cell_type": "code",
   "execution_count": 25,
   "metadata": {},
   "outputs": [
    {
     "name": "stdout",
     "output_type": "stream",
     "text": [
      "-------------------------------------------\n",
      "|\"NAME\"   |\"SALARY\"  |\"JOINDATE\"  |\"AGE\"  |\n",
      "-------------------------------------------\n",
      "|Alice    |5000.5    |2025-01-01  |30     |\n",
      "|Bob      |4000.0    |2025-01-02  |25     |\n",
      "|Charlie  |6000.75   |2025-01-03  |35     |\n",
      "-------------------------------------------\n",
      "\n"
     ]
    }
   ],
   "source": [
    "df.show()"
   ]
  },
  {
   "cell_type": "code",
   "execution_count": 26,
   "metadata": {},
   "outputs": [
    {
     "name": "stdout",
     "output_type": "stream",
     "text": [
      "Coluna: NAME - Tipo: StringType()\n",
      "Coluna: SALARY - Tipo: DoubleType()\n",
      "Coluna: JOINDATE - Tipo: StringType()\n",
      "Coluna: AGE - Tipo: LongType()\n"
     ]
    }
   ],
   "source": [
    "from snowflake.snowpark.functions import col\n",
    "\n",
    "# Exibir os tipos das colunas do DataFrame\n",
    "for field in df.schema.fields:\n",
    "    print(f\"Coluna: {field.name} - Tipo: {field.datatype}\")"
   ]
  }
 ],
 "metadata": {
  "kernelspec": {
   "display_name": "Python 3",
   "language": "python",
   "name": "python3"
  },
  "language_info": {
   "codemirror_mode": {
    "name": "ipython",
    "version": 3
   },
   "file_extension": ".py",
   "mimetype": "text/x-python",
   "name": "python",
   "nbconvert_exporter": "python",
   "pygments_lexer": "ipython3",
   "version": "3.10.7"
  }
 },
 "nbformat": 4,
 "nbformat_minor": 2
}
